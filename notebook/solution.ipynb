{
  "cells": [
    {
      "cell_type": "markdown",
      "metadata": {},
      "source": [
        "# Santiago De Chile Delays"
      ]
    },
    {
      "cell_type": "markdown",
      "metadata": {},
      "source": [
        "Let's import all the tools we need for our data explaration"
      ]
    },
    {
      "cell_type": "code",
      "execution_count": 9,
      "metadata": {},
      "outputs": [
        {
          "name": "stdout",
          "output_type": "stream",
          "text": [
            "Requirement already satisfied: numpy==1.21.6 in c:\\python39\\lib\\site-packages (from -r ../requirements.txt (line 1)) (1.21.6)\n",
            "Collecting pandas==1.3.5\n",
            "  Using cached pandas-1.3.5-cp39-cp39-win_amd64.whl (10.2 MB)\n",
            "Requirement already satisfied: python-dateutil==2.8.2 in c:\\users\\kevin\\appdata\\roaming\\python\\python39\\site-packages (from -r ../requirements.txt (line 3)) (2.8.2)\n",
            "Collecting pytz==2022.6\n",
            "  Using cached pytz-2022.6-py2.py3-none-any.whl (498 kB)\n",
            "Requirement already satisfied: six==1.16.0 in c:\\users\\kevin\\appdata\\roaming\\python\\python39\\site-packages (from -r ../requirements.txt (line 5)) (1.16.0)\n",
            "Installing collected packages: pytz, pandas\n",
            "Successfully installed pandas-1.3.5 pytz-2022.6\n"
          ]
        },
        {
          "name": "stderr",
          "output_type": "stream",
          "text": [
            "WARNING: Ignoring invalid distribution -ip (c:\\python39\\lib\\site-packages)\n",
            "WARNING: Ignoring invalid distribution -ip (c:\\python39\\lib\\site-packages)\n",
            "WARNING: Ignoring invalid distribution -ip (c:\\python39\\lib\\site-packages)\n",
            "WARNING: Ignoring invalid distribution -ip (c:\\python39\\lib\\site-packages)\n"
          ]
        }
      ],
      "source": [
        "# !pip install --upgrade pip --user\n",
        "!pip install -r ../requirements.txt --user"
      ]
    },
    {
      "cell_type": "code",
      "execution_count": 10,
      "metadata": {},
      "outputs": [],
      "source": [
        "import pandas as pd"
      ]
    },
    {
      "cell_type": "markdown",
      "metadata": {},
      "source": [
        "Let's first go over the provided data and see what valuable insights we can find."
      ]
    }
  ],
  "metadata": {
    "colab": {
      "provenance": []
    },
    "kernelspec": {
      "display_name": "Python 3.9.2 64-bit",
      "language": "python",
      "name": "python3"
    },
    "language_info": {
      "codemirror_mode": {
        "name": "ipython",
        "version": 3
      },
      "file_extension": ".py",
      "mimetype": "text/x-python",
      "name": "python",
      "nbconvert_exporter": "python",
      "pygments_lexer": "ipython3",
      "version": "3.9.2"
    },
    "vscode": {
      "interpreter": {
        "hash": "81794d4967e6c3204c66dcd87b604927b115b27c00565d3d43f05ba2f3a2cb0d"
      }
    }
  },
  "nbformat": 4,
  "nbformat_minor": 0
}
